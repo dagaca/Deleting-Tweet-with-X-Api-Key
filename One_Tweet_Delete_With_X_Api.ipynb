{
  "nbformat": 4,
  "nbformat_minor": 0,
  "metadata": {
    "colab": {
      "provenance": []
    },
    "kernelspec": {
      "name": "python3",
      "display_name": "Python 3"
    },
    "language_info": {
      "name": "python"
    }
  },
  "cells": [
    {
      "cell_type": "code",
      "source": [
        "import tweepy\n",
        "\n",
        "# Twitter API Anahtarları\n",
        "api_key = 'your_api_key'\n",
        "api_secret = 'your_api_secret'\n",
        "access_token = 'your_access_token'\n",
        "access_secret = 'your_access_secret'\n",
        "\n",
        "# Tweepy ile API'ye Bağlanma\n",
        "auth = tweepy.OAuthHandler(api_key, api_secret)\n",
        "auth.set_access_token(access_token, access_secret)\n",
        "api = tweepy.API(auth)\n",
        "\n",
        "# Tweet ID'sini çekmek istediğiniz tweet'in URL'si\n",
        "tweet_url = 'https://twitter.com/twitterusername/status/1234567890123456789'\n",
        "\n",
        "# Tweet URL'sinden tweet ID'sini çıkarma\n",
        "tweet_id = tweet_url.split(\"/\")[-1]\n",
        "\n",
        "\n",
        "def delete_tweet(tweet_to_delete_id):\n",
        "    \"\"\"\n",
        "    Belirtilen tweet ID'sini silen fonksiyon.\n",
        "\n",
        "    Parametreler:\n",
        "    - tweet_to_delete_id: Silinmek istenen tweet'in ID'si\n",
        "    \"\"\"\n",
        "    try:\n",
        "        api.destroy_status(tweet_to_delete_id)\n",
        "        print(\"Deleted tweet with ID:\", tweet_to_delete_id)\n",
        "    except tweepy.errors.TweepError as e:\n",
        "        print(\"Could not delete tweet with ID:\", tweet_to_delete_id, \"Error:\", str(e))\n",
        "\n",
        "\n",
        "# Silmek istediğiniz tweet'in ID'sini belirtin\n",
        "tweet_to_delete_id = 'tweet_id'\n",
        "\n",
        "# Tek bir tweet'i silme işlemi\n",
        "delete_tweet(tweet_to_delete_id)"
      ],
      "metadata": {
        "colab": {
          "base_uri": "https://localhost:8080/"
        },
        "id": "fDpszTH4BVda",
        "outputId": "57000c65-f8d8-4e19-f840-0fdb3fbbbac5"
      },
      "execution_count": 85,
      "outputs": [
        {
          "output_type": "stream",
          "name": "stdout",
          "text": [
            "Deleted tweet with ID: 1623765313329274880\n"
          ]
        }
      ]
    }
  ]
}