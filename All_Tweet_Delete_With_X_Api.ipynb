{
  "nbformat": 4,
  "nbformat_minor": 0,
  "metadata": {
    "colab": {
      "provenance": []
    },
    "kernelspec": {
      "name": "python3",
      "display_name": "Python 3"
    },
    "language_info": {
      "name": "python"
    }
  },
  "cells": [
    {
      "cell_type": "code",
      "execution_count": null,
      "metadata": {
        "id": "DBMZ0jmtS8bX"
      },
      "outputs": [],
      "source": [
        "import tweepy\n",
        "\n",
        "# Twitter API Anahtarları\n",
        "consumer_key = 'your_consumer_key'\n",
        "consumer_secret = 'your_consumer_secret'\n",
        "access_token = 'your_access_token'\n",
        "access_token_secret = 'your_access_token_secret'\n",
        "\n",
        "# Tweepy ile API'ye Bağlanma\n",
        "auth = tweepy.OAuthHandler(consumer_key, consumer_secret)\n",
        "auth.set_access_token(access_token, access_token_secret)\n",
        "api = tweepy.API(auth)\n",
        "\n",
        "def delete_all_tweets(screen_name):\n",
        "    try:\n",
        "        # Kullanıcının tweet'lerini çekme\n",
        "        tweets = tweepy.Cursor(api.user_timeline, screen_name=screen_name, tweet_mode=\"extended\").items()\n",
        "\n",
        "        # Tweet'leri silme\n",
        "        for tweet in tweets:\n",
        "            api.destroy_status(tweet.id)\n",
        "            print(f\"Deleted tweet with ID: {tweet.id}\")\n",
        "\n",
        "        print(f\"All tweets of user {screen_name} have been deleted.\")\n",
        "\n",
        "    except tweepy.errors.TweepError as e:\n",
        "        print(f\"An error occurred: {str(e)}\")\n",
        "\n",
        "# Kullanıcı adını belirtin\n",
        "username_to_delete = 'target_username'\n",
        "\n",
        "# Tüm tweet'leri silme işlemini başlat\n",
        "delete_all_tweets(username_to_delete)"
      ]
    }
  ]
}